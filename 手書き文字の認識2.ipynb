{
  "nbformat": 4,
  "nbformat_minor": 0,
  "metadata": {
    "colab": {
      "provenance": [],
      "authorship_tag": "ABX9TyOXZteibmhp5hlTfCfvuuxP",
      "include_colab_link": true
    },
    "kernelspec": {
      "name": "python3",
      "display_name": "Python 3"
    },
    "language_info": {
      "name": "python"
    }
  },
  "cells": [
    {
      "cell_type": "markdown",
      "metadata": {
        "id": "view-in-github",
        "colab_type": "text"
      },
      "source": [
        "<a href=\"https://colab.research.google.com/github/masahaya5931/yobidasi/blob/main/%E6%89%8B%E6%9B%B8%E3%81%8D%E6%96%87%E5%AD%97%E3%81%AE%E8%AA%8D%E8%AD%982.ipynb\" target=\"_parent\"><img src=\"https://colab.research.google.com/assets/colab-badge.svg\" alt=\"Open In Colab\"/></a>"
      ]
    },
    {
      "cell_type": "code",
      "execution_count": 2,
      "metadata": {
        "colab": {
          "base_uri": "https://localhost:8080/"
        },
        "id": "DWuslDNUEnYL",
        "outputId": "03507606-a9c0-48a1-c5cd-c5a0cfe42c8b"
      },
      "outputs": [
        {
          "output_type": "stream",
          "name": "stdout",
          "text": [
            "あなたの名前を入力してください：masazumi\n",
            "初めまして　こんにちは、masazumi！　さん\n",
            "最初の数値を入力してください：3453\n",
            "2番目の数値を入力してください：12345\n",
            "3453 + 12345 =  15798\n"
          ]
        }
      ],
      "source": [
        "def greet(name):\n",
        "  return f\"こんにちは、{name}！\"\n",
        "\n",
        "def sum_numbers(a, b):\n",
        "  c = a + b\n",
        "  return c\n",
        "\n",
        "if __name__ == \"__main__\":\n",
        "  # greet関数を呼び出す\n",
        "  name = input(\"あなたの名前を入力してください：\")\n",
        "  aisatsu = greet(name)\n",
        "  print(\"初めまして　\" + aisatsu + \"　さん\")\n",
        "\n",
        "  # sum_numbers関数を呼び出す\n",
        "  num1 = int(input(\"最初の数値を入力してください：\"))\n",
        "  num2 = int(input(\"2番目の数値を入力してください：\"))\n",
        "  goukei = sum_numbers(num1, num2)\n",
        "  print(f\"{num1} + {num2} = \",goukei)"
      ]
    },
    {
      "cell_type": "code",
      "source": [
        "import tensorflow as tf\n",
        "from tensorflow import keras\n",
        "import matplotlib.pyplot as plt\n",
        "import numpy as np\n",
        "\n",
        "# MNISTデータセットのロード\n",
        "(x_train, y_train), (x_test, y_test) = keras.datasets.mnist.load_data()\n",
        "\n",
        "# トレーニングデータの数を10000に制限\n",
        "x_train = x_train[:10000]\n",
        "y_train = y_train[:10000]\n",
        "\n",
        "# データの前処理\n",
        "x_train = x_train.astype('float32') / 255.0\n",
        "x_test = x_test.astype('float32') / 255.0\n",
        "x_train = np.expand_dims(x_train, -1)\n",
        "x_test = np.expand_dims(x_test, -1)\n",
        "y_train = keras.utils.to_categorical(y_train, num_classes=10)\n",
        "y_test = keras.utils.to_categorical(y_test, num_classes=10)\n",
        "\n",
        "# モデルの構築\n",
        "model = keras.Sequential([\n",
        "    keras.layers.Conv2D(32, (3, 3), activation='relu', input_shape=(28, 28, 1)),\n",
        "    keras.layers.MaxPooling2D((2, 2)),\n",
        "    keras.layers.Conv2D(64, (3, 3), activation='relu'),\n",
        "    keras.layers.MaxPooling2D((2, 2)),\n",
        "    keras.layers.Flatten(),\n",
        "    keras.layers.Dense(10, activation='softmax')\n",
        "])\n",
        "\n",
        "# モデルのコンパイル\n",
        "model.compile(optimizer='adam',\n",
        "              loss='categorical_crossentropy',\n",
        "              metrics=['accuracy'])\n",
        "\n",
        "# モデルのトレーニング\n",
        "history = model.fit(x_train, y_train, epochs=10, validation_data=(x_test, y_test))\n",
        "\n",
        "# モデルの評価\n",
        "test_loss, test_acc = model.evaluate(x_test, y_test, verbose=2)\n",
        "print('\\nTest accuracy:', test_acc)\n",
        "\n",
        "# 学習曲線のプロット\n",
        "plt.plot(history.history['accuracy'], label='accuracy')\n",
        "plt.plot(history.history['val_accuracy'], label = 'val_accuracy')\n",
        "plt.xlabel('Epoch')\n",
        "plt.ylabel('Accuracy')\n",
        "plt.ylim([0.5, 1])\n",
        "plt.legend(loc='lower right')\n",
        "plt.show()"
      ],
      "metadata": {
        "colab": {
          "base_uri": "https://localhost:8080/",
          "height": 916
        },
        "id": "sx5SxmjrIipC",
        "outputId": "c064846e-9c03-4e93-ac44-4475d90ba6da"
      },
      "execution_count": 3,
      "outputs": [
        {
          "output_type": "stream",
          "name": "stdout",
          "text": [
            "Downloading data from https://storage.googleapis.com/tensorflow/tf-keras-datasets/mnist.npz\n",
            "11490434/11490434 [==============================] - 0s 0us/step\n",
            "Epoch 1/10\n",
            "313/313 [==============================] - 13s 39ms/step - loss: 0.4675 - accuracy: 0.8600 - val_loss: 0.1515 - val_accuracy: 0.9547\n",
            "Epoch 2/10\n",
            "313/313 [==============================] - 12s 38ms/step - loss: 0.1303 - accuracy: 0.9621 - val_loss: 0.0931 - val_accuracy: 0.9726\n",
            "Epoch 3/10\n",
            "313/313 [==============================] - 12s 37ms/step - loss: 0.0901 - accuracy: 0.9734 - val_loss: 0.0793 - val_accuracy: 0.9753\n",
            "Epoch 4/10\n",
            "313/313 [==============================] - 13s 42ms/step - loss: 0.0643 - accuracy: 0.9823 - val_loss: 0.0763 - val_accuracy: 0.9752\n",
            "Epoch 5/10\n",
            "313/313 [==============================] - 12s 39ms/step - loss: 0.0555 - accuracy: 0.9837 - val_loss: 0.0688 - val_accuracy: 0.9785\n",
            "Epoch 6/10\n",
            "313/313 [==============================] - 11s 34ms/step - loss: 0.0400 - accuracy: 0.9878 - val_loss: 0.0633 - val_accuracy: 0.9796\n",
            "Epoch 7/10\n",
            "313/313 [==============================] - 11s 36ms/step - loss: 0.0354 - accuracy: 0.9900 - val_loss: 0.0681 - val_accuracy: 0.9788\n",
            "Epoch 8/10\n",
            "313/313 [==============================] - 12s 37ms/step - loss: 0.0297 - accuracy: 0.9908 - val_loss: 0.0605 - val_accuracy: 0.9799\n",
            "Epoch 9/10\n",
            "313/313 [==============================] - 13s 42ms/step - loss: 0.0213 - accuracy: 0.9937 - val_loss: 0.0624 - val_accuracy: 0.9814\n",
            "Epoch 10/10\n",
            "313/313 [==============================] - 12s 40ms/step - loss: 0.0163 - accuracy: 0.9948 - val_loss: 0.0782 - val_accuracy: 0.9774\n",
            "313/313 - 3s - loss: 0.0782 - accuracy: 0.9774 - 3s/epoch - 9ms/step\n",
            "\n",
            "Test accuracy: 0.977400004863739\n"
          ]
        },
        {
          "output_type": "display_data",
          "data": {
            "text/plain": [
              "<Figure size 640x480 with 1 Axes>"
            ],
            "image/png": "[encoded data removed]"
          },
          "metadata": {}
        }
      ]
    },
    {
      "cell_type": "code",
      "source": [
        "import tensorflow as tf\n",
        "from tensorflow import keras\n",
        "import matplotlib.pyplot as plt\n",
        "import numpy as np\n",
        "from PIL import Image\n",
        "\n",
        "# MNISTデータセットのロード\n",
        "(x_train, y_train), (x_test, y_test) = keras.datasets.mnist.load_data()\n",
        "\n",
        "# トレーニングデータの数を10000に制限\n",
        "x_train = x_train[:10000]\n",
        "y_train = y_train[:10000]\n",
        "\n",
        "# データの前処理\n",
        "x_train = x_train.astype('float32') / 255.0\n",
        "x_test = x_test.astype('float32') / 255.0\n",
        "x_train = np.expand_dims(x_train, -1)\n",
        "x_test = np.expand_dims(x_test, -1)\n",
        "y_train = keras.utils.to_categorical(y_train, num_classes=10)\n",
        "y_test = keras.utils.to_categorical(y_test, num_classes=10)\n",
        "\n",
        "# モデルの構築\n",
        "model = keras.Sequential([\n",
        "    keras.layers.Conv2D(32, (3, 3), activation='relu', input_shape=(28, 28, 1)),\n",
        "    keras.layers.MaxPooling2D((2, 2)),\n",
        "    keras.layers.Conv2D(64, (3, 3), activation='relu'),\n",
        "    keras.layers.MaxPooling2D((2, 2)),\n",
        "    keras.layers.Flatten(),\n",
        "    keras.layers.Dense(10, activation='softmax')\n",
        "])\n",
        "\n",
        "# モデルのコンパイル\n",
        "model.compile(optimizer='adam',\n",
        "              loss='categorical_crossentropy',\n",
        "              metrics=['accuracy'])\n",
        "\n",
        "# モデルのトレーニング\n",
        "history = model.fit(x_train, y_train, epochs=10, validation_data=(x_test, y_test))\n",
        "\n",
        "# モデルの評価\n",
        "test_loss, test_acc = model.evaluate(x_test, y_test, verbose=2)\n",
        "print('\\nTest accuracy:', test_acc)\n",
        "\n",
        "# 学習曲線のプロット\n",
        "plt.plot(history.history['accuracy'], label='accuracy')\n",
        "plt.plot(history.history['val_accuracy'], label = 'val_accuracy')\n",
        "plt.xlabel('Epoch')\n",
        "plt.ylabel('Accuracy')\n",
        "plt.ylim([0.5, 1])\n",
        "plt.legend(loc='lower right')\n",
        "plt.show()\n",
        "\n",
        "# 外部画像の読み込みと前処理\n",
        "def load_and_preprocess_image(image_path):\n",
        "    img = Image.open(image_path).convert('L')  # グレースケールに変換\n",
        "    img = img.resize((28, 28))  # 28x28にリサイズ\n",
        "    img_array = np.array(img)  # NumPy配列に変換\n",
        "    img_array = img_array.astype('float32') / 255.0  # 0-1に正規化\n",
        "    img_array = np.expand_dims(img_array, axis=0)  # バッチ次元を追加\n",
        "    img_array = np.expand_dims(img_array, axis=-1)  # チャネル次元を追加\n",
        "    return img_array\n",
        "\n",
        "# 予測\n",
        "def predict_digit(image_path):\n",
        "    img_array = load_and_preprocess_image(image_path)\n",
        "    prediction = model.predict(img_array)\n",
        "    digit = np.argmax(prediction)\n",
        "    return digit\n",
        "\n",
        "# 画像パスを指定して予測を実行\n",
        "image_path = 'path/to/your/image.png'  # ここに画像パスを入力\n",
        "predicted_digit = predict_digit(image_path)\n",
        "print('予測された数字:', predicted_digit)"
      ],
      "metadata": {
        "id": "oHdH7SDGKbL6"
      },
      "execution_count": null,
      "outputs": []
    }
  ]
}